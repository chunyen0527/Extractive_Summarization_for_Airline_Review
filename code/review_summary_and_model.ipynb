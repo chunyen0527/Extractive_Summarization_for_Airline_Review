{
 "cells": [
  {
   "cell_type": "code",
   "execution_count": 1,
   "id": "9dd0cf3f",
   "metadata": {},
   "outputs": [],
   "source": [
    "import pandas as pd\n",
    "import spacy\n",
    "from transformers import pipeline\n",
    "import re\n",
    "from transformers import AutoTokenizer, AutoModelForSequenceClassification\n",
    "from scipy.special import softmax\n",
    "import torch"
   ]
  },
  {
   "cell_type": "markdown",
   "id": "ebf4429d",
   "metadata": {},
   "source": [
    "### Load Models"
   ]
  },
  {
   "cell_type": "code",
   "execution_count": 2,
   "id": "c0f7f334",
   "metadata": {},
   "outputs": [
    {
     "name": "stderr",
     "output_type": "stream",
     "text": [
      "Device set to use cuda:0\n"
     ]
    }
   ],
   "source": [
    "# Load zero-shot classification model for topic labeling\n",
    "classifier = pipeline(\"zero-shot-classification\", model=\"facebook/bart-large-mnli\")\n",
    "\n",
    "# Load spaCy model for sentence segmentation\n",
    "nlp = spacy.load(\"en_core_web_md\")\n",
    "nlp.add_pipe(\"sentencizer\")  # Add sentence boundary detector\n",
    "\n",
    "# Load sentiment analysis model (3-class: positive, neutral, negative)\n",
    "model_name = \"cardiffnlp/twitter-roberta-base-sentiment\"\n",
    "tokenizer = AutoTokenizer.from_pretrained(model_name)\n",
    "model = AutoModelForSequenceClassification.from_pretrained(model_name)"
   ]
  },
  {
   "cell_type": "markdown",
   "id": "6cc2914d",
   "metadata": {},
   "source": [
    "### Load and Clean Data\n"
   ]
  },
  {
   "cell_type": "code",
   "execution_count": 3,
   "id": "80555295",
   "metadata": {},
   "outputs": [],
   "source": [
    "# Read the review dataset\n",
    "df = pd.read_csv(\"AirlineReviews.csv\")\n",
    "df = df.dropna(subset=[\"ReviewBody\"])\n",
    "df[\"ReviewBody\"] = df[\"ReviewBody\"].astype(str).str.strip()\n",
    "df = df[df[\"ReviewBody\"].str.len() > 10]"
   ]
  },
  {
   "cell_type": "markdown",
   "id": "035b8d2d",
   "metadata": {},
   "source": [
    "### Define Topic Labels and Fallback Rules\n"
   ]
  },
  {
   "cell_type": "code",
   "execution_count": 4,
   "id": "4cb957cb",
   "metadata": {},
   "outputs": [],
   "source": [
    "# List of predefined airline-related aspect categories\n",
    "labels = [\n",
    "    \"Flight Delay\", \"Seat Comfort\", \"In-flight Food and Drinks\",\n",
    "    \"In-flight Entertainment\", \"Wi-Fi and Connectivity\", \"Baggage\",\n",
    "    \"Boarding process at the gate\", \"Check-in\", \"Cabin Service\", \"Staff & Service Attitude\",\n",
    "    \"Customer Service Response\", \"Compensation & Refunds\",\n",
    "    \"Value for Money\", \"Overall Airline Experience\", \"Lounge Experience\",\n",
    "    \"Loyalty Program or Elite Status\", \"Cultural Benchmark\"\n",
    "]\n",
    "\n",
    "# Define fallback rule function for low-confidence predictions\n",
    "def fallback_label(text):\n",
    "    s = text.lower()\n",
    "    fallback_rules = [\n",
    "        (r\"\\b(avios|loyalty|frequent flyer|status|tier points|elite member|executive club|member)\\b\", \"Loyalty Program or Elite Status\"),\n",
    "        (r\"\\b(refund|voucher|compensation|reimbursement|money back|covered cost|receipt|compensate)\\b\", \"Compensation & Refunds\"),\n",
    "        (r\"\\b(never again|last time|worst airline|national disgrace|not reliable|gone downhill|joke airline|abysmal|conclusion|overall|in summary)\\b\", \"Overall Airline Experience\"),\n",
    "        (r\"\\b(boarding|gate|queue|line|group|shuttle|overbooked|chaotic|boarding pass|bumped|boarding delay|reallocated seats|gate change)\\b\", \"Boarding process at the gate\"),\n",
    "        (r\"\\b(rude|polite|friendly|unhelpful|helpful|aggressive|shouted|respectful|ignored|not helpful|walked away|no one helped|they dont care|they don't care|indifferent staff|dismissive|condescending|sarcastic|snarky|cold|robotic|wouldn’t listen|wouldn't listen|wouldnt listen)\\b\", \"Staff & Service Attitude\"),\n",
    "        (r\"\\b(lost luggage|baggage missing|bag was not|delayed bag|baggage lost|airtag|luggage still in|baggage didn’t arrive|reclaim)\\b\", \"Baggage\"),\n",
    "        (r\"\\b(customer service|call center|couldn’t reach|no response|hung up|phone support|agent said|long hold|chatbot|no email reply|no one answers|excuses|apologize|complaint|excuses)\\b\", \"Customer Service Response\"),\n",
    "        (r\"\\b(delayed|flight cancelled|connection missed|schedule change|late flight|gate closed|rebooked|replacement flight|technical issue|no crew)\\b\", \"Flight Delay\"),\n",
    "        (r\"\\b(meal|food|beverage|catering|drink|snack|inedible|ran out|no food|lentil pie|beef cheeks|breakfast|tray service)\\b\", \"In-flight Food and Drinks\"),\n",
    "        (r\"\\b(screen|entertainment|media system|movie didn’t work|broken screen|TV|headphones)\\b\", \"In-flight Entertainment\"),\n",
    "        (r\"\\b(legroom|recline|tight|seat comfort|uncomfortable|tray seat|middle seat|blocked middle|seat didn’t work|seat controls|cramped|no space|reclining|business class seat|seating)\\b\", \"Seat Comfort\"),\n",
    "        (r\"\\b(wifi|wi-fi|internet|no signal|connection drop|onboard wifi|connectivity)\\b\", \"Wi-Fi and Connectivity\"),\n",
    "        (r\"\\b(value for money|not worth it|expensive|waste|rip off|costly|ticket price|basic essentials|low-cost)\\b\", \"Value for Money\"),\n",
    "        (r\"\\b(lounge|lounges|business lounge|airport lounge|vip lounge|lounge access|lounge experience|crowded lounge|no lounge access)\\b\", \"Lounge Experience\"),\n",
    "        (r\"\\b(cabin crew|crew service|service poor|crew attitude|no explanation|service was ok|minimal service)\\b\", \"Cabin Service\"),\n",
    "        (r\"\\b(check-in|security|airport process|terminal|check in counter|kiosk|boarding card|passport control|line long|not checked in)\\b\", \"Check-in Process\"),\n",
    "    ]\n",
    "    for pattern, label in fallback_rules:\n",
    "        if re.search(pattern, s):\n",
    "            return label\n",
    "    return None"
   ]
  },
  {
   "cell_type": "markdown",
   "id": "b69249af",
   "metadata": {},
   "source": [
    "### Sentiment Scoring with RoBERTa"
   ]
  },
  {
   "cell_type": "code",
   "execution_count": 5,
   "id": "c7d9ac2a",
   "metadata": {},
   "outputs": [],
   "source": [
    "def get_sentiment_roberta(text):\n",
    "    encoded_input = tokenizer(text, return_tensors='pt', truncation=True)\n",
    "    with torch.no_grad():\n",
    "        output = model(**encoded_input)\n",
    "    scores = output.logits[0].numpy()\n",
    "    probs = softmax(scores)\n",
    "\n",
    "    labels = ['Negative', 'Neutral', 'Positive']\n",
    "    label = labels[probs.argmax()]\n",
    "    score = probs.max()\n",
    "\n",
    "    # Convert label into polarity score\n",
    "    if label == 'Positive':\n",
    "        polarity = score\n",
    "    elif label == 'Negative':\n",
    "        polarity = -score\n",
    "    else:\n",
    "        polarity = 0.0\n",
    "\n",
    "    return label, polarity\n"
   ]
  },
  {
   "cell_type": "markdown",
   "id": "e3c8a199",
   "metadata": {},
   "source": [
    "### Sentence Segmentation and Text Cleaning Functions"
   ]
  },
  {
   "cell_type": "code",
   "execution_count": 6,
   "id": "7d7f79b6",
   "metadata": {},
   "outputs": [],
   "source": [
    "# Split a review into sentences using spaCy\n",
    "def get_sentences(text):\n",
    "    doc = nlp(text)\n",
    "    return [sent.text.strip() for sent in doc.sents]\n",
    "\n",
    "# Clean text by lowercasing and removing unwanted characters\n",
    "def clean_text(text):\n",
    "    text = str(text).lower()\n",
    "    text = re.sub(r'[^a-zA-Z0-9\\s\\.,!?\\'\\\";\\-\\(\\)]', '', text)\n",
    "    return text\n"
   ]
  },
  {
   "cell_type": "markdown",
   "id": "0ed4fea3",
   "metadata": {},
   "source": [
    "### Process Each Review"
   ]
  },
  {
   "cell_type": "code",
   "execution_count": 9,
   "id": "b4b8376d",
   "metadata": {},
   "outputs": [
    {
     "name": "stdout",
     "output_type": "stream",
     "text": [
      "========== Review #80 Summary ==========\n",
      "**Original Review**\n",
      "The staff are very rude and not trained properly. No exceptions are made for children and elderly people. The price of\n",
      "the ticket is very expensive given the distance and the service is extremely extremely poor\n",
      "\n",
      "===== Auto-Generated Review Summary =====\n",
      "[Staff & Service Attitude]\n",
      "- The staff are very rude and not trained properly.\n",
      "\n",
      "Most Emotional Sentence: The price of the ticket is very expensive given the distance and the service is extremely extremely poor | Sentiment Score: -0.98\n",
      "\n",
      "========== Review #139 Summary ==========\n",
      "**Original Review**\n",
      "An excellent flight in Club World on British Airways. The welcome aboard was warm and that continued throughout the\n",
      "flight. The crew were attentive, friendly and very professional. On board food for dinner and breakfast was good and\n",
      "there was a well chosen selection of wines. In flight entertainment offered a great selection of films and audio. The\n",
      "seat/flat bed was very comfortable - British Airways have done an excellent job in the design and comfort of the suites\n",
      "on board the A350. I liked the sleek, minimalist design. This flight showed that BA can be among the world’s best\n",
      "airlines.\n",
      "\n",
      "===== Auto-Generated Review Summary =====\n",
      "[In-flight Entertainment]\n",
      "- In flight entertainment offered a great selection of films and audio.\n",
      "[In-flight Food and Drinks]\n",
      "- On board food for dinner and breakfast was good and there was a well chosen selection of wines.\n",
      "[Staff & Service Attitude]\n",
      "- The crew were attentive, friendly and very professional.\n",
      "\n",
      "Most Emotional Sentence: This flight showed that BA can be among the world’s best airlines. | Sentiment Score: 0.97\n",
      "\n",
      "========== Review #733 Summary ==========\n",
      "**Original Review**\n",
      "Buenos Aires to London Heathrow rwturn. The aircraft is very old, cabin configuration is very old and tired. IFE screens\n",
      "have not been changed since they were first installed. My Ipod has a larger and more responsive screen. Before taking\n",
      "off in Buenos Aires, some pax, but not all, were offered water or orange juice. I never got any. After take off, drinks\n",
      "were offered, followed by a hot meal. Food choices ran out in the first row. Seats were uncomfortable, footrests were\n",
      "jammed. On the return flight, sparkling wine and water were offered before take off, followed by drinks and the meal I\n",
      "had chosen online was a beef stew with mashed potatoes. Poor movie choices, miniature screen and uncomfortable seats.\n",
      "Crew OK. No indication as to which toilets to use, either forward in business class or rear economy. Having flown\n",
      "Norwegian on their B787 in their premium cabin on the same route, BA is a waste of my money.\n",
      "\n",
      "===== Auto-Generated Review Summary =====\n",
      "[Seat Comfort]\n",
      "- Seats were uncomfortable, footrests were jammed.\n",
      "[Value for Money]\n",
      "- Having flown Norwegian on their B787 in their premium cabin on the same route, BA is a waste of my money.\n",
      "[In-flight Entertainment]\n",
      "- My Ipod has a larger and more responsive screen.\n",
      "\n",
      "Most Emotional Sentence: The aircraft is very old, cabin configuration is very old and tired. | Sentiment Score: -0.93\n",
      "\n"
     ]
    }
   ],
   "source": [
    "import textwrap\n",
    "\n",
    "# Target review indices to process (can be adjusted)\n",
    "target_indices = [79, 138, 732] #list(range(0, 11))\n",
    "output_rows = []\n",
    "\n",
    "for idx in target_indices:\n",
    "    review = df[\"ReviewBody\"].iloc[idx]\n",
    "    print(f\"========== Review #{idx+1} Summary ==========\")\n",
    "    print(\"**Original Review**\")\n",
    "    print(textwrap.fill(review, width=120))\n",
    "    \n",
    "    # ========= Sentence Segmentation =========\n",
    "    sentences = get_sentences(review)\n",
    "    sentence_info = []\n",
    "    \n",
    "    for sent in sentences:\n",
    "        if len(sent.strip()) < 5:\n",
    "            continue  # Skip very short sentences\n",
    "        \n",
    "        cleaned_sent = clean_text(sent)\n",
    "\n",
    "        # ========= Sentiment Analysis =========\n",
    "        label, polarity = get_sentiment_roberta(sent)\n",
    "\n",
    "        # ========= Topic Classification =========\n",
    "        classification = classifier(sent, labels)\n",
    "        best_label = classification['labels'][0]\n",
    "        best_score = classification['scores'][0]\n",
    "\n",
    "        # ========= Apply Fallback Rule if Confidence < 0.3 =========\n",
    "        if best_score < 0.3:\n",
    "            fb_label = fallback_label(sent)\n",
    "            if fb_label:\n",
    "                best_label = fb_label\n",
    "                best_score += 0.5  # Indicate fallback rule was applied\n",
    "\n",
    "        sentence_info.append((sent, best_label, best_score, polarity))\n",
    "    \n",
    "    # ========= Select Most Emotional Sentence =========\n",
    "    most_emotional = None\n",
    "    max_emotion_score = 0\n",
    "\n",
    "    for item in sentence_info:\n",
    "        emotion_strength = abs(item[3])\n",
    "        \n",
    "        if round(emotion_strength, 1) > round(max_emotion_score, 1):\n",
    "            max_emotion_score = emotion_strength\n",
    "            most_emotional = item\n",
    "        elif round(emotion_strength, 1) == round(max_emotion_score, 1):\n",
    "            label = item[1]\n",
    "            if label == \"Overall Airline Experience\" or label == \"Value for Money\":\n",
    "                most_emotional = item\n",
    "    \n",
    "    # ========= Select Topic Summary Sentences (Excluding Emotional One) =========\n",
    "    sorted_by_score = sorted(sentence_info, key=lambda x: x[2], reverse=True)\n",
    "    selected_summary = {}\n",
    "    emotion_sent_text = most_emotional[0] if most_emotional else None\n",
    "\n",
    "    for sent, label, score, polarity in sorted_by_score:\n",
    "        if sent == emotion_sent_text:\n",
    "            continue  # Skip emotional sentence\n",
    "        if label not in selected_summary and score >= 0.25:\n",
    "            selected_summary[label] = sent\n",
    "        if len(selected_summary) >= 3:\n",
    "            break\n",
    "\n",
    "    # ========= Ensure At Least 3 Summary Topics =========\n",
    "    if len(selected_summary) < 3:\n",
    "        for sent, label, score, polarity in sorted_by_score:\n",
    "            if sent == emotion_sent_text or label in selected_summary:\n",
    "                continue\n",
    "            selected_summary[label] = sent\n",
    "            if len(selected_summary) >= 3:\n",
    "                break\n",
    "\n",
    "    # ========= Output Summary =========\n",
    "    print(\"\\n===== Auto-Generated Review Summary =====\")\n",
    "    for topic, sent in selected_summary.items():\n",
    "        print(f\"[{topic}]\")\n",
    "        print(f\"- {sent}\")\n",
    "        \n",
    "    print(f\"\\nMost Emotional Sentence: {most_emotional[0]} | Sentiment Score: {most_emotional[3]:.2f}\\n\")\n",
    "\n",
    "    # ========= Save Results to Output List =========\n",
    "    output_rows.append({\n",
    "        \"ReviewID\": idx,\n",
    "        \"OriginalReview\": review,\n",
    "        \"Summary1\": list(selected_summary.values())[0] if len(selected_summary) > 0 else None,\n",
    "        \"Topic1\": list(selected_summary.keys())[0] if len(selected_summary) > 0 else None,\n",
    "        \"Summary2\": list(selected_summary.values())[1] if len(selected_summary) > 1 else None,\n",
    "        \"Topic2\": list(selected_summary.keys())[1] if len(selected_summary) > 1 else None,\n",
    "        \"Summary3\": list(selected_summary.values())[2] if len(selected_summary) > 2 else None,\n",
    "        \"Topic3\": list(selected_summary.keys())[2] if len(selected_summary) > 2 else None,\n",
    "        \"MostEmotionalSentence\": most_emotional[0] if most_emotional else None,\n",
    "        \"EmotionTopic\": most_emotional[1] if most_emotional else None,\n",
    "        \"EmotionScore\": most_emotional[3] if most_emotional else None\n",
    "    })"
   ]
  },
  {
   "cell_type": "markdown",
   "id": "30a92c27",
   "metadata": {},
   "source": [
    "### Export Results to CSV\n"
   ]
  },
  {
   "cell_type": "code",
   "execution_count": 8,
   "id": "da2e52ed",
   "metadata": {},
   "outputs": [
    {
     "name": "stdout",
     "output_type": "stream",
     "text": [
      "✅ CSV file saved as 'review_summary_output.csv'\n"
     ]
    }
   ],
   "source": [
    "# Convert results list to DataFrame and export to CSV\n",
    "df_output = pd.DataFrame(output_rows)\n",
    "df_output.to_csv(\"review_summary_output.csv\", index=False)\n",
    "print(\"✅ CSV file saved as 'review_summary_output.csv'\")"
   ]
  }
 ],
 "metadata": {
  "kernelspec": {
   "display_name": "base",
   "language": "python",
   "name": "python3"
  },
  "language_info": {
   "codemirror_mode": {
    "name": "ipython",
    "version": 3
   },
   "file_extension": ".py",
   "mimetype": "text/x-python",
   "name": "python",
   "nbconvert_exporter": "python",
   "pygments_lexer": "ipython3",
   "version": "3.12.4"
  }
 },
 "nbformat": 4,
 "nbformat_minor": 5
}
